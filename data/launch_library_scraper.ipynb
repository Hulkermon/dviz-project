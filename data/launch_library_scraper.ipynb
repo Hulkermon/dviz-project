{
 "cells": [
  {
   "cell_type": "code",
   "execution_count": 1,
   "metadata": {},
   "outputs": [],
   "source": [
    "import json\n",
    "import requests\n",
    "import time"
   ]
  },
  {
   "cell_type": "markdown",
   "metadata": {},
   "source": [
    "# Agencies\n",
    "Total: 290"
   ]
  },
  {
   "cell_type": "code",
   "execution_count": 3,
   "metadata": {},
   "outputs": [
    {
     "name": "stdout",
     "output_type": "stream",
     "text": [
      "290\n"
     ]
    }
   ],
   "source": [
    "with open('./launch-library/agencies.json', encoding='utf-8') as f:\n",
    "  agencies = json.load(f)\n",
    "  print(len(agencies))"
   ]
  },
  {
   "cell_type": "markdown",
   "metadata": {},
   "source": [
    "# Astronauts\n",
    "Total: 721"
   ]
  },
  {
   "cell_type": "code",
   "execution_count": 2,
   "metadata": {},
   "outputs": [
    {
     "name": "stdout",
     "output_type": "stream",
     "text": [
      "500\n"
     ]
    }
   ],
   "source": [
    "with open('./launch-library/astronauts.json', encoding='utf-8') as f:\n",
    "  astronauts = json.load(f)\n",
    "  print(len(astronauts))"
   ]
  },
  {
   "cell_type": "markdown",
   "metadata": {},
   "source": [
    "# Expeditions\n",
    "Total: 147"
   ]
  },
  {
   "cell_type": "code",
   "execution_count": 26,
   "metadata": {},
   "outputs": [
    {
     "name": "stdout",
     "output_type": "stream",
     "text": [
      "147\n"
     ]
    }
   ],
   "source": [
    "with open('./launch-library/expeditions.json', encoding='utf-8') as f:\n",
    "  expeditions = json.load(f)\n",
    "  print(len(expeditions))"
   ]
  },
  {
   "cell_type": "markdown",
   "metadata": {},
   "source": [
    "# Launches\n",
    "Total: 6767"
   ]
  },
  {
   "cell_type": "code",
   "execution_count": null,
   "metadata": {},
   "outputs": [],
   "source": [
    "max_offset = 68\n",
    "sleep_time = 300\n",
    "\n",
    "for i in range(10, max_offset):\n",
    "\twith open('./launch-library/launches.json', 'r+', encoding='utf-8') as f:\n",
    "\t\tlaunches = json.load(f)\n",
    "\t\tf.seek(0)\n",
    "\t\tdata = requests.get('https://ll.thespacedevs.com/2.2.0/launch/?mode=detailed&limit=100&offset={}'.format(i * 100))\n",
    "\t\tfor result in data.json()['results']:\n",
    "\t\t\tlaunches.append(result)\n",
    "\t\tjson.dump(launches, f, indent=2)\n",
    "\t\tf.truncate()\n",
    "\t\thours_left = (((max_offset - i) * sleep_time / 60) / 60)\n",
    "\t\tminutes_left = ((max_offset - i) * sleep_time / 60) % 60\n",
    "\t\tprint('%i / 67 | %ih %2im remaining' % (i, hours_left, minutes_left))\n",
    "\t\ttime.sleep(sleep_time)\n",
    "print('done :)')\n"
   ]
  },
  {
   "cell_type": "code",
   "execution_count": 4,
   "metadata": {},
   "outputs": [
    {
     "name": "stdout",
     "output_type": "stream",
     "text": [
      "6767\n"
     ]
    }
   ],
   "source": [
    "\n",
    "with open('./launch-library/launches.json', 'r+', encoding='utf-8') as f:\n",
    "  launches = json.load(f)\n",
    "  print(len(launches))"
   ]
  },
  {
   "cell_type": "markdown",
   "metadata": {},
   "source": [
    "# Locations\n",
    "Total: 49"
   ]
  },
  {
   "cell_type": "code",
   "execution_count": 4,
   "metadata": {},
   "outputs": [
    {
     "name": "stdout",
     "output_type": "stream",
     "text": [
      "49\n"
     ]
    }
   ],
   "source": [
    "with open('./launch-library/locations.json', encoding='utf-8') as f:\n",
    "  locations = json.load(f)\n",
    "  print(len(locations))"
   ]
  },
  {
   "cell_type": "markdown",
   "metadata": {},
   "source": [
    "# I want it all!\n",
    "I want it now"
   ]
  },
  {
   "cell_type": "code",
   "execution_count": 4,
   "metadata": {},
   "outputs": [],
   "source": [
    "def get_all_remaining_endpoints():\n",
    "  sleep_seconds = 250\n",
    "\n",
    "  with open('./launch-library/remaining_endpoints.json', 'r') as endpoints_json:\n",
    "    remaining_endpoints = json.load(endpoints_json)\n",
    "    \n",
    "  # for endpoint_name in remaining_endpoints:\n",
    "  #   print('getting {}'.format(endpoint_name))\n",
    "  #   endpoint_url = remaining_endpoints[endpoint_name]\n",
    "  #   response = requests.get(endpoint_url, params={'mode':'detailed', 'limit':100}).json()\n",
    "  #   try:\n",
    "  #     endpoints_info.update({endpoint_name: {'next': response['next'], 'count': response['count']}})\n",
    "  #   except(KeyError):\n",
    "  #     print('[ERROR] getting {}\\nreponse:'.format(endpoint_name))\n",
    "  #     print(response)\n",
    "  #   with open('./launch-library/{}.json'.format(endpoint_name), 'w') as out_json:\n",
    "  #     json.dump(response['results'], out_json, indent=2)\n",
    "  \n",
    "  # cooldown_seconds = len(endpoints_info) * sleep_seconds\n",
    "  # cooldown_minutes = (int)(cooldown_seconds / 60)\n",
    "  # print(endpoints_info)\n",
    "  # total_requests = sum([(int)(endpoints_info[ep]['count'] / 100) for ep in endpoints_info])\n",
    "  # total_seconds = total_requests * sleep_seconds + cooldown_seconds\n",
    "  # total_hours = (int)(total_seconds / 3600)\n",
    "  # total_minutes = (int)(total_seconds / 60) % 60\n",
    "  # print('Total requests needed: {}'.format(total_requests))\n",
    "  # print('This should take about {}h {}m'.format(total_hours, total_minutes))\n",
    "\n",
    "  # print('sleeping for {}m'.format(cooldown_minutes))\n",
    "  # time.sleep(cooldown_seconds)\n",
    "\n",
    "\n",
    "\n",
    "  for endpoint_name in remaining_endpoints:\n",
    "    has_next = True\n",
    "    \n",
    "    while has_next:\n",
    "      with open('./launch-library/{}.json'.format(endpoint_name), 'r+') as in_json:\n",
    "        entries = json.load(in_json)\n",
    "        offset = len(entries)\n",
    "        in_json.seek(0)\n",
    "        try:\n",
    "          next_response = requests.get(remaining_endpoints[endpoint_name], params={'mode':'detailed', 'offset': offset, 'limit':100}).json()\n",
    "          try:\n",
    "            if next_response['next'] == None:\n",
    "              has_next = False\n",
    "            for result in next_response['results']:\n",
    "              entries.append(result)\n",
    "            print('yoinked {}, offset: {}'.format(endpoint_name, offset))\n",
    "          except(KeyError):\n",
    "            print('I think something went wrong...{}\\n\\nnext_response:'.format(endpoint_name))\n",
    "            break\n",
    "          json.dump(entries, in_json, indent=2)\n",
    "          in_json.truncate()\n",
    "          time.sleep(sleep_seconds)\n",
    "        except(ConnectionError):\n",
    "          pass\n",
    "    print('{} done :)'.format(endpoint_name))\n",
    "  print('holy shit we made it...')"
   ]
  },
  {
   "cell_type": "code",
   "execution_count": 5,
   "metadata": {},
   "outputs": [
    {
     "name": "stdout",
     "output_type": "stream",
     "text": [
      "yoinked astronauts, offset: 721\n",
      "astronauts done :)\n",
      "yoinked docking_events, offset: 400\n",
      "docking_events done :)\n",
      "yoinked launchers, offset: 100\n",
      "launchers done :)\n",
      "yoinked pads, offset: 100\n",
      "pads done :)\n",
      "yoinked spacestations, offset: 15\n",
      "spacestations done :)\n",
      "yoinked spacecraft_flights, offset: 100\n",
      "yoinked spacecraft_flights, offset: 200\n",
      "yoinked spacecraft_flights, offset: 300\n",
      "yoinked spacecraft_flights, offset: 400\n",
      "yoinked spacecraft_flights, offset: 500\n",
      "yoinked spacecraft_flights, offset: 600\n",
      "yoinked spacecraft_flights, offset: 700\n",
      "spacecraft_flights done :)\n",
      "yoinked spacecrafts, offset: 100\n",
      "yoinked spacecrafts, offset: 200\n",
      "yoinked spacecrafts, offset: 300\n",
      "yoinked spacecrafts, offset: 400\n",
      "yoinked spacecrafts, offset: 500\n",
      "spacecrafts done :)\n",
      "yoinked programs, offset: 21\n",
      "programs done :)\n",
      "holy shit we made it...\n"
     ]
    }
   ],
   "source": [
    "get_all_remaining_endpoints()"
   ]
  }
 ],
 "metadata": {
  "kernelspec": {
   "display_name": "Python 3.10.8 ('dviz')",
   "language": "python",
   "name": "python3"
  },
  "language_info": {
   "codemirror_mode": {
    "name": "ipython",
    "version": 3
   },
   "file_extension": ".py",
   "mimetype": "text/x-python",
   "name": "python",
   "nbconvert_exporter": "python",
   "pygments_lexer": "ipython3",
   "version": "3.10.9"
  },
  "orig_nbformat": 4,
  "vscode": {
   "interpreter": {
    "hash": "3b0e3f12e10e030fed2335f1b1859ee4a72959b35d4e2e1ef1e6659dbde6c006"
   }
  }
 },
 "nbformat": 4,
 "nbformat_minor": 2
}
