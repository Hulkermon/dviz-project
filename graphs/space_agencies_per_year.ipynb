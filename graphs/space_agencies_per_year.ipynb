{
 "cells": [
  {
   "cell_type": "code",
   "execution_count": 1,
   "metadata": {},
   "outputs": [],
   "source": [
    "import pandas as pd\n",
    "import plotly.express as px\n",
    "import plotly.graph_objects as go\n",
    "from datetime import datetime"
   ]
  },
  {
   "cell_type": "code",
   "execution_count": 2,
   "metadata": {},
   "outputs": [],
   "source": [
    "agencies = pd.read_json('../data/launch-library/agencies.json', encoding='utf=8')"
   ]
  },
  {
   "cell_type": "code",
   "execution_count": 3,
   "metadata": {},
   "outputs": [
    {
     "data": {
      "text/plain": [
       "id                                   int64\n",
       "url                                 object\n",
       "name                                object\n",
       "featured                              bool\n",
       "type                                object\n",
       "country_code                        object\n",
       "abbrev                              object\n",
       "description                         object\n",
       "administrator                       object\n",
       "founding_year                      float64\n",
       "launchers                           object\n",
       "spacecraft                          object\n",
       "parent                              object\n",
       "launch_library_url                  object\n",
       "total_launch_count                   int64\n",
       "successful_launches                  int64\n",
       "consecutive_successful_launches      int64\n",
       "failed_launches                      int64\n",
       "pending_launches                     int64\n",
       "successful_landings                  int64\n",
       "failed_landings                      int64\n",
       "attempted_landings                   int64\n",
       "consecutive_successful_landings      int64\n",
       "info_url                            object\n",
       "wiki_url                            object\n",
       "logo_url                            object\n",
       "image_url                           object\n",
       "nation_url                          object\n",
       "launcher_list                       object\n",
       "spacecraft_list                     object\n",
       "dtype: object"
      ]
     },
     "execution_count": 3,
     "metadata": {},
     "output_type": "execute_result"
    }
   ],
   "source": [
    "agencies.dtypes"
   ]
  },
  {
   "cell_type": "code",
   "execution_count": 4,
   "metadata": {},
   "outputs": [],
   "source": [
    "spaceX_founding = datetime(2002, 3, 14)\n",
    "spaceX_first_launch = datetime(2008, 9, 28)\n",
    "spaceX_first_test_landing = datetime(2013, 9, 29)\n",
    "spaceX_first_soft_touch_down = datetime(2014, 4, 8)\n",
    "spaceX_first_landing = datetime(2015, 12, 21)"
   ]
  },
  {
   "cell_type": "code",
   "execution_count": 5,
   "metadata": {},
   "outputs": [],
   "source": [
    "agencies_with_founding_year = agencies[agencies['founding_year'].notna()].sort_values('founding_year')"
   ]
  },
  {
   "attachments": {},
   "cell_type": "markdown",
   "metadata": {},
   "source": [
    "Group by `founding_year` and calculate total agencies of all categories for each year including overall total"
   ]
  },
  {
   "cell_type": "code",
   "execution_count": 6,
   "metadata": {},
   "outputs": [],
   "source": [
    "total_agencies_per_year = []\n",
    "\n",
    "for year in agencies_with_founding_year['founding_year'].unique():\n",
    "  current_year = agencies_with_founding_year[agencies_with_founding_year['founding_year'] == year]\n",
    "  new = current_year.count()['id']\n",
    "  new_government = current_year[current_year['type'] == 'Government'].count()['id']\n",
    "  new_commercial = current_year[current_year['type'] == 'Commercial'].count()['id']\n",
    "  new_private = current_year[current_year['type'] == 'Private'].count()['id']\n",
    "  new_multinational = current_year[current_year['type'] == 'Multinational'].count()['id']\n",
    "  \n",
    "  new_entry = {\n",
    "    'year': year,\n",
    "    'new': new,\n",
    "    'new_government': new_government,\n",
    "    'new_commercial': new_commercial,\n",
    "    'new_private': new_private,\n",
    "    'new_multinational': new_multinational,\n",
    "  }\n",
    "  if len(total_agencies_per_year) > 0:\n",
    "    new_entry['total'] = new + total_agencies_per_year[-1]['total']\n",
    "    new_entry['total_government'] = new_government + total_agencies_per_year[-1]['total_government']\n",
    "    new_entry['total_commercial'] = new_commercial + total_agencies_per_year[-1]['total_commercial']\n",
    "    new_entry['total_private'] = new_private + total_agencies_per_year[-1]['total_private']\n",
    "    new_entry['total_multinational'] = new_multinational + total_agencies_per_year[-1]['total_multinational']\n",
    "  else:\n",
    "    new_entry['total'] = new\n",
    "    new_entry['total_government'] = new_government\n",
    "    new_entry['total_commercial'] = new_commercial\n",
    "    new_entry['total_private'] = new_private\n",
    "    new_entry['total_multinational'] = new_multinational\n",
    "\n",
    "  total_agencies_per_year.append(new_entry)\n",
    "\n",
    "total_agencies_per_year = pd.DataFrame(total_agencies_per_year)"
   ]
  },
  {
   "cell_type": "markdown",
   "metadata": {},
   "source": [
    "### Export to json for web display"
   ]
  },
  {
   "cell_type": "code",
   "execution_count": 7,
   "metadata": {},
   "outputs": [],
   "source": [
    "total_agencies_per_year[['year', 'total_government', 'total_commercial', 'total_private']].to_json('agenciesPerYear.json')"
   ]
  },
  {
   "cell_type": "code",
   "execution_count": 8,
   "metadata": {},
   "outputs": [
    {
     "data": {
      "application/vnd.plotly.v1+json": {
       "config": {
        "plotlyServerURL": "https://plot.ly"
       },
       "data": [
        {
         "hovertext": [
          1,
          1,
          1,
          1,
          1,
          1,
          1,
          1,
          1,
          1,
          1,
          1,
          1,
          2,
          1,
          1,
          2,
          1,
          1,
          1,
          2,
          2,
          4,
          2,
          2,
          1,
          2,
          1,
          1,
          2,
          1,
          1,
          1,
          1,
          1,
          1,
          2,
          2,
          2,
          2,
          1,
          1,
          1,
          2,
          1,
          2,
          3,
          3,
          1,
          1,
          1,
          1,
          3,
          6,
          4,
          5,
          3,
          1,
          1
         ],
         "mode": "lines",
         "name": "Total",
         "type": "scatter",
         "visible": "legendonly",
         "x": [
          1717,
          1884,
          1904,
          1908,
          1916,
          1917,
          1923,
          1928,
          1931,
          1940,
          1942,
          1943,
          1946,
          1947,
          1950,
          1951,
          1953,
          1955,
          1956,
          1958,
          1959,
          1960,
          1961,
          1963,
          1964,
          1965,
          1969,
          1970,
          1972,
          1975,
          1980,
          1982,
          1985,
          1988,
          1989,
          1990,
          1992,
          1993,
          1995,
          1996,
          1998,
          1999,
          2000,
          2002,
          2003,
          2004,
          2005,
          2006,
          2007,
          2008,
          2010,
          2011,
          2014,
          2015,
          2016,
          2017,
          2018,
          2019,
          2021
         ],
         "y": [
          1,
          2,
          3,
          4,
          5,
          6,
          7,
          8,
          9,
          10,
          11,
          12,
          13,
          15,
          16,
          17,
          19,
          20,
          21,
          22,
          24,
          26,
          30,
          32,
          34,
          35,
          37,
          38,
          39,
          41,
          42,
          43,
          44,
          45,
          46,
          47,
          49,
          51,
          53,
          55,
          56,
          57,
          58,
          60,
          61,
          63,
          66,
          69,
          70,
          71,
          72,
          73,
          76,
          82,
          86,
          91,
          94,
          95,
          96
         ]
        },
        {
         "hovertext": [
          1,
          0,
          1,
          0,
          1,
          0,
          1,
          0,
          1,
          1,
          0,
          0,
          1,
          1,
          0,
          0,
          1,
          1,
          1,
          1,
          1,
          1,
          3,
          1,
          1,
          1,
          2,
          1,
          1,
          1,
          0,
          1,
          1,
          1,
          1,
          1,
          2,
          2,
          0,
          0,
          0,
          1,
          0,
          0,
          1,
          1,
          0,
          1,
          1,
          0,
          0,
          0,
          0,
          0,
          0,
          0,
          1,
          1,
          0
         ],
         "mode": "lines",
         "name": "Governemnt",
         "type": "scatter",
         "x": [
          1717,
          1884,
          1904,
          1908,
          1916,
          1917,
          1923,
          1928,
          1931,
          1940,
          1942,
          1943,
          1946,
          1947,
          1950,
          1951,
          1953,
          1955,
          1956,
          1958,
          1959,
          1960,
          1961,
          1963,
          1964,
          1965,
          1969,
          1970,
          1972,
          1975,
          1980,
          1982,
          1985,
          1988,
          1989,
          1990,
          1992,
          1993,
          1995,
          1996,
          1998,
          1999,
          2000,
          2002,
          2003,
          2004,
          2005,
          2006,
          2007,
          2008,
          2010,
          2011,
          2014,
          2015,
          2016,
          2017,
          2018,
          2019,
          2021
         ],
         "y": [
          1,
          1,
          2,
          2,
          3,
          3,
          4,
          4,
          5,
          6,
          6,
          6,
          7,
          8,
          8,
          8,
          9,
          10,
          11,
          12,
          13,
          14,
          17,
          18,
          19,
          20,
          22,
          23,
          24,
          25,
          25,
          26,
          27,
          28,
          29,
          30,
          32,
          34,
          34,
          34,
          34,
          35,
          35,
          35,
          36,
          37,
          37,
          38,
          39,
          39,
          39,
          39,
          39,
          39,
          39,
          39,
          40,
          41,
          41
         ]
        },
        {
         "hovertext": [
          0,
          1,
          0,
          1,
          0,
          0,
          0,
          0,
          0,
          0,
          1,
          1,
          0,
          1,
          1,
          1,
          1,
          0,
          0,
          0,
          1,
          1,
          1,
          1,
          0,
          0,
          0,
          0,
          0,
          0,
          1,
          0,
          0,
          0,
          0,
          0,
          0,
          0,
          2,
          2,
          0,
          0,
          1,
          2,
          0,
          0,
          2,
          2,
          0,
          1,
          1,
          1,
          1,
          4,
          2,
          3,
          2,
          0,
          0
         ],
         "line": {
          "color": "#1de9b6"
         },
         "mode": "lines",
         "name": "Commercial",
         "type": "scatter",
         "x": [
          1717,
          1884,
          1904,
          1908,
          1916,
          1917,
          1923,
          1928,
          1931,
          1940,
          1942,
          1943,
          1946,
          1947,
          1950,
          1951,
          1953,
          1955,
          1956,
          1958,
          1959,
          1960,
          1961,
          1963,
          1964,
          1965,
          1969,
          1970,
          1972,
          1975,
          1980,
          1982,
          1985,
          1988,
          1989,
          1990,
          1992,
          1993,
          1995,
          1996,
          1998,
          1999,
          2000,
          2002,
          2003,
          2004,
          2005,
          2006,
          2007,
          2008,
          2010,
          2011,
          2014,
          2015,
          2016,
          2017,
          2018,
          2019,
          2021
         ],
         "y": [
          0,
          1,
          1,
          2,
          2,
          2,
          2,
          2,
          2,
          2,
          3,
          4,
          4,
          5,
          6,
          7,
          8,
          8,
          8,
          8,
          9,
          10,
          11,
          12,
          12,
          12,
          12,
          12,
          12,
          12,
          13,
          13,
          13,
          13,
          13,
          13,
          13,
          13,
          15,
          17,
          17,
          17,
          18,
          20,
          20,
          20,
          22,
          24,
          24,
          25,
          26,
          27,
          28,
          32,
          34,
          37,
          39,
          39,
          39
         ]
        },
        {
         "hovertext": [
          0,
          0,
          0,
          0,
          0,
          0,
          0,
          0,
          0,
          0,
          0,
          0,
          0,
          0,
          0,
          0,
          0,
          0,
          0,
          0,
          0,
          0,
          0,
          0,
          0,
          0,
          0,
          0,
          0,
          0,
          0,
          0,
          0,
          0,
          0,
          0,
          0,
          0,
          0,
          0,
          1,
          0,
          0,
          0,
          0,
          1,
          0,
          0,
          0,
          0,
          0,
          0,
          0,
          0,
          2,
          2,
          0,
          0,
          0
         ],
         "mode": "lines",
         "name": "Private",
         "type": "scatter",
         "x": [
          1717,
          1884,
          1904,
          1908,
          1916,
          1917,
          1923,
          1928,
          1931,
          1940,
          1942,
          1943,
          1946,
          1947,
          1950,
          1951,
          1953,
          1955,
          1956,
          1958,
          1959,
          1960,
          1961,
          1963,
          1964,
          1965,
          1969,
          1970,
          1972,
          1975,
          1980,
          1982,
          1985,
          1988,
          1989,
          1990,
          1992,
          1993,
          1995,
          1996,
          1998,
          1999,
          2000,
          2002,
          2003,
          2004,
          2005,
          2006,
          2007,
          2008,
          2010,
          2011,
          2014,
          2015,
          2016,
          2017,
          2018,
          2019,
          2021
         ],
         "y": [
          0,
          0,
          0,
          0,
          0,
          0,
          0,
          0,
          0,
          0,
          0,
          0,
          0,
          0,
          0,
          0,
          0,
          0,
          0,
          0,
          0,
          0,
          0,
          0,
          0,
          0,
          0,
          0,
          0,
          0,
          0,
          0,
          0,
          0,
          0,
          0,
          0,
          0,
          0,
          0,
          1,
          1,
          1,
          1,
          1,
          2,
          2,
          2,
          2,
          2,
          2,
          2,
          2,
          2,
          4,
          6,
          6,
          6,
          6
         ]
        },
        {
         "hovertext": [
          0,
          0,
          0,
          0,
          0,
          0,
          0,
          0,
          0,
          0,
          0,
          0,
          0,
          0,
          0,
          0,
          0,
          0,
          0,
          0,
          0,
          0,
          0,
          0,
          1,
          0,
          0,
          0,
          0,
          1,
          0,
          0,
          0,
          0,
          0,
          0,
          0,
          0,
          0,
          0,
          0,
          0,
          0,
          0,
          0,
          0,
          0,
          0,
          0,
          0,
          0,
          0,
          1,
          0,
          0,
          0,
          0,
          0,
          1
         ],
         "mode": "lines",
         "name": "Multinational",
         "type": "scatter",
         "x": [
          1717,
          1884,
          1904,
          1908,
          1916,
          1917,
          1923,
          1928,
          1931,
          1940,
          1942,
          1943,
          1946,
          1947,
          1950,
          1951,
          1953,
          1955,
          1956,
          1958,
          1959,
          1960,
          1961,
          1963,
          1964,
          1965,
          1969,
          1970,
          1972,
          1975,
          1980,
          1982,
          1985,
          1988,
          1989,
          1990,
          1992,
          1993,
          1995,
          1996,
          1998,
          1999,
          2000,
          2002,
          2003,
          2004,
          2005,
          2006,
          2007,
          2008,
          2010,
          2011,
          2014,
          2015,
          2016,
          2017,
          2018,
          2019,
          2021
         ],
         "y": [
          0,
          0,
          0,
          0,
          0,
          0,
          0,
          0,
          0,
          0,
          0,
          0,
          0,
          0,
          0,
          0,
          0,
          0,
          0,
          0,
          0,
          0,
          0,
          0,
          1,
          1,
          1,
          1,
          1,
          2,
          2,
          2,
          2,
          2,
          2,
          2,
          2,
          2,
          2,
          2,
          2,
          2,
          2,
          2,
          2,
          2,
          2,
          2,
          2,
          2,
          2,
          2,
          3,
          3,
          3,
          3,
          3,
          3,
          4
         ]
        }
       ],
       "layout": {
        "annotations": [
         {
          "font": {
           "color": "#bed9ec"
          },
          "showarrow": false,
          "text": "SpaceX founded",
          "x": 2002,
          "xanchor": "center",
          "xref": "x",
          "y": 1,
          "yanchor": "bottom",
          "yref": "y domain"
         },
         {
          "font": {
           "color": "#bed9ec"
          },
          "showarrow": false,
          "text": "SpaceX first launch",
          "x": 2008,
          "xanchor": "center",
          "xref": "x",
          "y": 1.1,
          "yanchor": "bottom",
          "yref": "y domain"
         },
         {
          "font": {
           "color": "#bed9ec"
          },
          "showarrow": false,
          "text": "SpaceX first landing test",
          "x": 2013,
          "xanchor": "center",
          "xref": "x",
          "y": 1.05,
          "yanchor": "bottom",
          "yref": "y domain"
         },
         {
          "font": {
           "color": "#9ce68a"
          },
          "showarrow": false,
          "text": "SpaceX first landing",
          "x": 2015,
          "xanchor": "center",
          "xref": "x",
          "y": 1,
          "yanchor": "bottom",
          "yref": "y domain"
         },
         {
          "align": "left",
          "bgcolor": "#222",
          "bordercolor": "#222",
          "borderwidth": 10,
          "showarrow": false,
          "text": "The <b style=\"color: #bed9ec\">founding</b> and <b style=\"color: #bed9ec\">first successful launch</b> of<br>SpaceX were no industry changing events.",
          "x": 2000,
          "y": -0.15,
          "yanchor": "top",
          "yref": "paper"
         },
         {
          "align": "left",
          "bgcolor": "#222",
          "bordercolor": "#222",
          "borderwidth": 10,
          "showarrow": false,
          "text": "However the <b style=\"color: #9ce68a\">first successful landing</b> and recovery<br>of a booster rocket seems to have sparked an<br>increase in <b style=\"color: #1de9b6\">commercial</b> and some <b style=\"color: #ba68c8\">private</b> agencies.",
          "x": 2016,
          "y": -0.15,
          "yanchor": "top",
          "yref": "paper"
         }
        ],
        "height": 600,
        "legend": {
         "x": 0
        },
        "margin": {
         "b": 150,
         "r": 150
        },
        "shapes": [
         {
          "line": {
           "color": "#bed9ec",
           "dash": "longdash"
          },
          "type": "line",
          "x0": 2002,
          "x1": 2002,
          "xref": "x",
          "y0": 0,
          "y1": 1,
          "yref": "y domain"
         },
         {
          "line": {
           "color": "#bed9ec",
           "dash": "longdash"
          },
          "type": "line",
          "x0": 2008,
          "x1": 2008,
          "xref": "x",
          "y0": 0,
          "y1": 1,
          "yref": "y domain"
         },
         {
          "line": {
           "color": "#bed9ec",
           "dash": "longdash"
          },
          "type": "line",
          "x0": 2013,
          "x1": 2013,
          "xref": "x",
          "y0": 0,
          "y1": 1,
          "yref": "y domain"
         },
         {
          "line": {
           "color": "#9ce68a",
           "dash": "longdash"
          },
          "type": "line",
          "x0": 2015,
          "x1": 2015,
          "xref": "x",
          "y0": 0,
          "y1": 1,
          "yref": "y domain"
         }
        ],
        "template": {
         "data": {
          "bar": [
           {
            "error_x": {
             "color": "#f2f5fa"
            },
            "error_y": {
             "color": "#f2f5fa"
            },
            "marker": {
             "line": {
              "color": "rgb(17,17,17)",
              "width": 0.5
             },
             "pattern": {
              "fillmode": "overlay",
              "size": 10,
              "solidity": 0.2
             }
            },
            "type": "bar"
           }
          ],
          "barpolar": [
           {
            "marker": {
             "line": {
              "color": "rgb(17,17,17)",
              "width": 0.5
             },
             "pattern": {
              "fillmode": "overlay",
              "size": 10,
              "solidity": 0.2
             }
            },
            "type": "barpolar"
           }
          ],
          "carpet": [
           {
            "aaxis": {
             "endlinecolor": "#A2B1C6",
             "gridcolor": "#506784",
             "linecolor": "#506784",
             "minorgridcolor": "#506784",
             "startlinecolor": "#A2B1C6"
            },
            "baxis": {
             "endlinecolor": "#A2B1C6",
             "gridcolor": "#506784",
             "linecolor": "#506784",
             "minorgridcolor": "#506784",
             "startlinecolor": "#A2B1C6"
            },
            "type": "carpet"
           }
          ],
          "choropleth": [
           {
            "colorbar": {
             "outlinewidth": 0,
             "ticks": ""
            },
            "type": "choropleth"
           }
          ],
          "contour": [
           {
            "colorbar": {
             "outlinewidth": 0,
             "ticks": ""
            },
            "colorscale": [
             [
              0,
              "#0d0887"
             ],
             [
              0.1111111111111111,
              "#46039f"
             ],
             [
              0.2222222222222222,
              "#7201a8"
             ],
             [
              0.3333333333333333,
              "#9c179e"
             ],
             [
              0.4444444444444444,
              "#bd3786"
             ],
             [
              0.5555555555555556,
              "#d8576b"
             ],
             [
              0.6666666666666666,
              "#ed7953"
             ],
             [
              0.7777777777777778,
              "#fb9f3a"
             ],
             [
              0.8888888888888888,
              "#fdca26"
             ],
             [
              1,
              "#f0f921"
             ]
            ],
            "type": "contour"
           }
          ],
          "contourcarpet": [
           {
            "colorbar": {
             "outlinewidth": 0,
             "ticks": ""
            },
            "type": "contourcarpet"
           }
          ],
          "heatmap": [
           {
            "colorbar": {
             "outlinewidth": 0,
             "ticks": ""
            },
            "colorscale": [
             [
              0,
              "#0d0887"
             ],
             [
              0.1111111111111111,
              "#46039f"
             ],
             [
              0.2222222222222222,
              "#7201a8"
             ],
             [
              0.3333333333333333,
              "#9c179e"
             ],
             [
              0.4444444444444444,
              "#bd3786"
             ],
             [
              0.5555555555555556,
              "#d8576b"
             ],
             [
              0.6666666666666666,
              "#ed7953"
             ],
             [
              0.7777777777777778,
              "#fb9f3a"
             ],
             [
              0.8888888888888888,
              "#fdca26"
             ],
             [
              1,
              "#f0f921"
             ]
            ],
            "type": "heatmap"
           }
          ],
          "heatmapgl": [
           {
            "colorbar": {
             "outlinewidth": 0,
             "ticks": ""
            },
            "colorscale": [
             [
              0,
              "#0d0887"
             ],
             [
              0.1111111111111111,
              "#46039f"
             ],
             [
              0.2222222222222222,
              "#7201a8"
             ],
             [
              0.3333333333333333,
              "#9c179e"
             ],
             [
              0.4444444444444444,
              "#bd3786"
             ],
             [
              0.5555555555555556,
              "#d8576b"
             ],
             [
              0.6666666666666666,
              "#ed7953"
             ],
             [
              0.7777777777777778,
              "#fb9f3a"
             ],
             [
              0.8888888888888888,
              "#fdca26"
             ],
             [
              1,
              "#f0f921"
             ]
            ],
            "type": "heatmapgl"
           }
          ],
          "histogram": [
           {
            "marker": {
             "pattern": {
              "fillmode": "overlay",
              "size": 10,
              "solidity": 0.2
             }
            },
            "type": "histogram"
           }
          ],
          "histogram2d": [
           {
            "colorbar": {
             "outlinewidth": 0,
             "ticks": ""
            },
            "colorscale": [
             [
              0,
              "#0d0887"
             ],
             [
              0.1111111111111111,
              "#46039f"
             ],
             [
              0.2222222222222222,
              "#7201a8"
             ],
             [
              0.3333333333333333,
              "#9c179e"
             ],
             [
              0.4444444444444444,
              "#bd3786"
             ],
             [
              0.5555555555555556,
              "#d8576b"
             ],
             [
              0.6666666666666666,
              "#ed7953"
             ],
             [
              0.7777777777777778,
              "#fb9f3a"
             ],
             [
              0.8888888888888888,
              "#fdca26"
             ],
             [
              1,
              "#f0f921"
             ]
            ],
            "type": "histogram2d"
           }
          ],
          "histogram2dcontour": [
           {
            "colorbar": {
             "outlinewidth": 0,
             "ticks": ""
            },
            "colorscale": [
             [
              0,
              "#0d0887"
             ],
             [
              0.1111111111111111,
              "#46039f"
             ],
             [
              0.2222222222222222,
              "#7201a8"
             ],
             [
              0.3333333333333333,
              "#9c179e"
             ],
             [
              0.4444444444444444,
              "#bd3786"
             ],
             [
              0.5555555555555556,
              "#d8576b"
             ],
             [
              0.6666666666666666,
              "#ed7953"
             ],
             [
              0.7777777777777778,
              "#fb9f3a"
             ],
             [
              0.8888888888888888,
              "#fdca26"
             ],
             [
              1,
              "#f0f921"
             ]
            ],
            "type": "histogram2dcontour"
           }
          ],
          "mesh3d": [
           {
            "colorbar": {
             "outlinewidth": 0,
             "ticks": ""
            },
            "type": "mesh3d"
           }
          ],
          "parcoords": [
           {
            "line": {
             "colorbar": {
              "outlinewidth": 0,
              "ticks": ""
             }
            },
            "type": "parcoords"
           }
          ],
          "pie": [
           {
            "automargin": true,
            "type": "pie"
           }
          ],
          "scatter": [
           {
            "marker": {
             "line": {
              "color": "#283442"
             }
            },
            "type": "scatter"
           }
          ],
          "scatter3d": [
           {
            "line": {
             "colorbar": {
              "outlinewidth": 0,
              "ticks": ""
             }
            },
            "marker": {
             "colorbar": {
              "outlinewidth": 0,
              "ticks": ""
             }
            },
            "type": "scatter3d"
           }
          ],
          "scattercarpet": [
           {
            "marker": {
             "colorbar": {
              "outlinewidth": 0,
              "ticks": ""
             }
            },
            "type": "scattercarpet"
           }
          ],
          "scattergeo": [
           {
            "marker": {
             "colorbar": {
              "outlinewidth": 0,
              "ticks": ""
             }
            },
            "type": "scattergeo"
           }
          ],
          "scattergl": [
           {
            "marker": {
             "line": {
              "color": "#283442"
             }
            },
            "type": "scattergl"
           }
          ],
          "scattermapbox": [
           {
            "marker": {
             "colorbar": {
              "outlinewidth": 0,
              "ticks": ""
             }
            },
            "type": "scattermapbox"
           }
          ],
          "scatterpolar": [
           {
            "marker": {
             "colorbar": {
              "outlinewidth": 0,
              "ticks": ""
             }
            },
            "type": "scatterpolar"
           }
          ],
          "scatterpolargl": [
           {
            "marker": {
             "colorbar": {
              "outlinewidth": 0,
              "ticks": ""
             }
            },
            "type": "scatterpolargl"
           }
          ],
          "scatterternary": [
           {
            "marker": {
             "colorbar": {
              "outlinewidth": 0,
              "ticks": ""
             }
            },
            "type": "scatterternary"
           }
          ],
          "surface": [
           {
            "colorbar": {
             "outlinewidth": 0,
             "ticks": ""
            },
            "colorscale": [
             [
              0,
              "#0d0887"
             ],
             [
              0.1111111111111111,
              "#46039f"
             ],
             [
              0.2222222222222222,
              "#7201a8"
             ],
             [
              0.3333333333333333,
              "#9c179e"
             ],
             [
              0.4444444444444444,
              "#bd3786"
             ],
             [
              0.5555555555555556,
              "#d8576b"
             ],
             [
              0.6666666666666666,
              "#ed7953"
             ],
             [
              0.7777777777777778,
              "#fb9f3a"
             ],
             [
              0.8888888888888888,
              "#fdca26"
             ],
             [
              1,
              "#f0f921"
             ]
            ],
            "type": "surface"
           }
          ],
          "table": [
           {
            "cells": {
             "fill": {
              "color": "#506784"
             },
             "line": {
              "color": "rgb(17,17,17)"
             }
            },
            "header": {
             "fill": {
              "color": "#2a3f5f"
             },
             "line": {
              "color": "rgb(17,17,17)"
             }
            },
            "type": "table"
           }
          ]
         },
         "layout": {
          "annotationdefaults": {
           "arrowcolor": "#f2f5fa",
           "arrowhead": 0,
           "arrowwidth": 1
          },
          "autotypenumbers": "strict",
          "coloraxis": {
           "colorbar": {
            "outlinewidth": 0,
            "ticks": ""
           }
          },
          "colorscale": {
           "diverging": [
            [
             0,
             "#8e0152"
            ],
            [
             0.1,
             "#c51b7d"
            ],
            [
             0.2,
             "#de77ae"
            ],
            [
             0.3,
             "#f1b6da"
            ],
            [
             0.4,
             "#fde0ef"
            ],
            [
             0.5,
             "#f7f7f7"
            ],
            [
             0.6,
             "#e6f5d0"
            ],
            [
             0.7,
             "#b8e186"
            ],
            [
             0.8,
             "#7fbc41"
            ],
            [
             0.9,
             "#4d9221"
            ],
            [
             1,
             "#276419"
            ]
           ],
           "sequential": [
            [
             0,
             "#0d0887"
            ],
            [
             0.1111111111111111,
             "#46039f"
            ],
            [
             0.2222222222222222,
             "#7201a8"
            ],
            [
             0.3333333333333333,
             "#9c179e"
            ],
            [
             0.4444444444444444,
             "#bd3786"
            ],
            [
             0.5555555555555556,
             "#d8576b"
            ],
            [
             0.6666666666666666,
             "#ed7953"
            ],
            [
             0.7777777777777778,
             "#fb9f3a"
            ],
            [
             0.8888888888888888,
             "#fdca26"
            ],
            [
             1,
             "#f0f921"
            ]
           ],
           "sequentialminus": [
            [
             0,
             "#0d0887"
            ],
            [
             0.1111111111111111,
             "#46039f"
            ],
            [
             0.2222222222222222,
             "#7201a8"
            ],
            [
             0.3333333333333333,
             "#9c179e"
            ],
            [
             0.4444444444444444,
             "#bd3786"
            ],
            [
             0.5555555555555556,
             "#d8576b"
            ],
            [
             0.6666666666666666,
             "#ed7953"
            ],
            [
             0.7777777777777778,
             "#fb9f3a"
            ],
            [
             0.8888888888888888,
             "#fdca26"
            ],
            [
             1,
             "#f0f921"
            ]
           ]
          },
          "colorway": [
           "#636efa",
           "#EF553B",
           "#00cc96",
           "#ab63fa",
           "#FFA15A",
           "#19d3f3",
           "#FF6692",
           "#B6E880",
           "#FF97FF",
           "#FECB52"
          ],
          "font": {
           "color": "#f2f5fa"
          },
          "geo": {
           "bgcolor": "rgb(17,17,17)",
           "lakecolor": "rgb(17,17,17)",
           "landcolor": "rgb(17,17,17)",
           "showlakes": true,
           "showland": true,
           "subunitcolor": "#506784"
          },
          "hoverlabel": {
           "align": "left"
          },
          "hovermode": "closest",
          "mapbox": {
           "style": "dark"
          },
          "paper_bgcolor": "rgb(17,17,17)",
          "plot_bgcolor": "rgb(17,17,17)",
          "polar": {
           "angularaxis": {
            "gridcolor": "#506784",
            "linecolor": "#506784",
            "ticks": ""
           },
           "bgcolor": "rgb(17,17,17)",
           "radialaxis": {
            "gridcolor": "#506784",
            "linecolor": "#506784",
            "ticks": ""
           }
          },
          "scene": {
           "xaxis": {
            "backgroundcolor": "rgb(17,17,17)",
            "gridcolor": "#506784",
            "gridwidth": 2,
            "linecolor": "#506784",
            "showbackground": true,
            "ticks": "",
            "zerolinecolor": "#C8D4E3"
           },
           "yaxis": {
            "backgroundcolor": "rgb(17,17,17)",
            "gridcolor": "#506784",
            "gridwidth": 2,
            "linecolor": "#506784",
            "showbackground": true,
            "ticks": "",
            "zerolinecolor": "#C8D4E3"
           },
           "zaxis": {
            "backgroundcolor": "rgb(17,17,17)",
            "gridcolor": "#506784",
            "gridwidth": 2,
            "linecolor": "#506784",
            "showbackground": true,
            "ticks": "",
            "zerolinecolor": "#C8D4E3"
           }
          },
          "shapedefaults": {
           "line": {
            "color": "#f2f5fa"
           }
          },
          "sliderdefaults": {
           "bgcolor": "#C8D4E3",
           "bordercolor": "rgb(17,17,17)",
           "borderwidth": 1,
           "tickwidth": 0
          },
          "ternary": {
           "aaxis": {
            "gridcolor": "#506784",
            "linecolor": "#506784",
            "ticks": ""
           },
           "baxis": {
            "gridcolor": "#506784",
            "linecolor": "#506784",
            "ticks": ""
           },
           "bgcolor": "rgb(17,17,17)",
           "caxis": {
            "gridcolor": "#506784",
            "linecolor": "#506784",
            "ticks": ""
           }
          },
          "title": {
           "x": 0.05
          },
          "updatemenudefaults": {
           "bgcolor": "#506784",
           "borderwidth": 0
          },
          "xaxis": {
           "automargin": true,
           "gridcolor": "#283442",
           "linecolor": "#506784",
           "ticks": "",
           "title": {
            "standoff": 15
           },
           "zerolinecolor": "#283442",
           "zerolinewidth": 2
          },
          "yaxis": {
           "automargin": true,
           "gridcolor": "#283442",
           "linecolor": "#506784",
           "ticks": "",
           "title": {
            "standoff": 15
           },
           "zerolinecolor": "#283442",
           "zerolinewidth": 2
          }
         }
        },
        "title": {
         "text": "Number of existing Space Agencies per year"
        },
        "xaxis": {
         "range": [
          1945,
          2022
         ]
        },
        "yaxis": {
         "side": "right",
         "title": {
          "font": {
           "color": "#ececec",
           "size": 15
          },
          "text": "Agencies"
         }
        }
       }
      }
     },
     "metadata": {},
     "output_type": "display_data"
    }
   ],
   "source": [
    "x_year = total_agencies_per_year['year']\n",
    "passive_color = '#bed9ec'\n",
    "success_color = '#9ce68a'\n",
    "commercial_color = '#1de9b6'\n",
    "private_color = '#ba68c8'\n",
    "annotation_bgcolor = '#222'\n",
    "\n",
    "agencies_over_time_fig = go.Figure(\n",
    "  layout={\n",
    "    'template': 'plotly_dark',\n",
    "    'title': 'Number of existing Space Agencies per year',\n",
    "    'height': 600,\n",
    "    'margin_b': 150,\n",
    "    'margin_r': 150,\n",
    "    'xaxis_range': [1945, 2022],\n",
    "    'yaxis': {\n",
    "      'side': 'right',\n",
    "      'title': 'Agencies',\n",
    "      'title_font_color': '#ececec',\n",
    "      'title_font_size': 15,\n",
    "    },\n",
    "    'legend_x': 0\n",
    "  },\n",
    ")\n",
    "\n",
    "agencies_over_time_fig.add_trace(go.Scatter(\n",
    "  name='Total',\n",
    "  mode='lines',\n",
    "  hovertext=total_agencies_per_year['new'],\n",
    "  x=x_year,\n",
    "  y=total_agencies_per_year['total'],\n",
    "  visible='legendonly'\n",
    "))\n",
    "agencies_over_time_fig.add_trace(go.Scatter(\n",
    "  name='Governemnt',\n",
    "  mode='lines',\n",
    "  hovertext=total_agencies_per_year['new_government'],\n",
    "  x=x_year,\n",
    "  y=total_agencies_per_year['total_government']\n",
    "))\n",
    "agencies_over_time_fig.add_trace(go.Scatter(\n",
    "  name='Commercial',\n",
    "  mode='lines',\n",
    "  hovertext=total_agencies_per_year['new_commercial'],\n",
    "  x=x_year,\n",
    "  y=total_agencies_per_year['total_commercial'],\n",
    "  line={'color':commercial_color}\n",
    "))\n",
    "agencies_over_time_fig.add_trace(go.Scatter(\n",
    "  name='Private',\n",
    "  mode='lines',\n",
    "  hovertext=total_agencies_per_year['new_private'],\n",
    "  x=x_year,\n",
    "  y=total_agencies_per_year['total_private']\n",
    "))\n",
    "agencies_over_time_fig.add_trace(go.Scatter(\n",
    "  name='Multinational',\n",
    "  mode='lines',\n",
    "  hovertext=total_agencies_per_year['new_multinational'],\n",
    "  x=x_year,\n",
    "  y=total_agencies_per_year['total_multinational']\n",
    "))\n",
    "\n",
    "agencies_over_time_fig.add_vline(\n",
    "  spaceX_founding.year,\n",
    "  annotation={'text': 'SpaceX founded', 'font_color': passive_color},\n",
    "  annotation_position='top',\n",
    "  line={'dash': 'longdash', 'color': passive_color}\n",
    ")\n",
    "agencies_over_time_fig.add_vline(\n",
    "  spaceX_first_launch.year,\n",
    "  annotation={'text': 'SpaceX first launch', 'font_color': passive_color, 'y': 1.10},\n",
    "  annotation_position='top',\n",
    "  line={'dash': 'longdash', 'color': passive_color}\n",
    ")\n",
    "agencies_over_time_fig.add_vline(\n",
    "  spaceX_first_test_landing.year,\n",
    "  annotation={'text': 'SpaceX first landing test', 'font_color': passive_color, 'y': 1.05},\n",
    "  annotation_position='top',\n",
    "  line={'dash': 'longdash', 'color': passive_color}\n",
    ")\n",
    "agencies_over_time_fig.add_vline(\n",
    "  spaceX_first_landing.year,\n",
    "  annotation={'text': 'SpaceX first landing', 'font_color': success_color},\n",
    "  annotation_position='top',\n",
    "  line={'dash': 'longdash', 'color': success_color}\n",
    ")\n",
    "\n",
    "agencies_over_time_fig.add_annotation(go.layout.Annotation(\n",
    "  text='The <b style=\"color: ' + passive_color + '\">founding</b> and <b style=\"color: ' + passive_color + '\">first successful launch</b> of<br>SpaceX were no industry changing events.',\n",
    "  align='left',\n",
    "  showarrow=False,\n",
    "  x=2000,\n",
    "  yref='paper',\n",
    "  y=-0.15,\n",
    "  yanchor='top',\n",
    "  bgcolor=annotation_bgcolor,\n",
    "  bordercolor=annotation_bgcolor,\n",
    "  borderwidth=10\n",
    "))\n",
    "agencies_over_time_fig.add_annotation(go.layout.Annotation(\n",
    "  text='However the <b style=\"color: ' + success_color + '\">first successful landing</b> and recovery<br>of a booster rocket seems to have sparked an<br>increase in <b style=\"color: ' + commercial_color + '\">commercial</b> and some <b style=\"color: ' + private_color + '\">private</b> agencies.',\n",
    "  align='left',\n",
    "  showarrow=False,\n",
    "  x=2016,\n",
    "  yref='paper',\n",
    "  y=-0.15,\n",
    "  yanchor='top',\n",
    "  bgcolor=annotation_bgcolor,\n",
    "  bordercolor=annotation_bgcolor,\n",
    "  borderwidth=10\n",
    "))\n",
    "\n",
    "agencies_over_time_fig.show()"
   ]
  }
 ],
 "metadata": {
  "kernelspec": {
   "display_name": "test",
   "language": "python",
   "name": "test"
  },
  "language_info": {
   "codemirror_mode": {
    "name": "ipython",
    "version": 3
   },
   "file_extension": ".py",
   "mimetype": "text/x-python",
   "name": "python",
   "nbconvert_exporter": "python",
   "pygments_lexer": "ipython3",
   "version": "3.10.9"
  },
  "orig_nbformat": 4,
  "vscode": {
   "interpreter": {
    "hash": "3b0e3f12e10e030fed2335f1b1859ee4a72959b35d4e2e1ef1e6659dbde6c006"
   }
  }
 },
 "nbformat": 4,
 "nbformat_minor": 2
}
