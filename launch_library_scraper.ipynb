{
 "cells": [
  {
   "cell_type": "code",
   "execution_count": 4,
   "metadata": {},
   "outputs": [],
   "source": [
    "import json\n",
    "import requests\n",
    "import time"
   ]
  },
  {
   "cell_type": "markdown",
   "metadata": {},
   "source": [
    "# Agencies\n",
    "Total: 290"
   ]
  },
  {
   "cell_type": "code",
   "execution_count": 24,
   "metadata": {},
   "outputs": [
    {
     "name": "stdout",
     "output_type": "stream",
     "text": [
      "290\n"
     ]
    }
   ],
   "source": [
    "with open('./data/launch-library/agencies.json', encoding='utf-8') as f:\n",
    "  agencies = json.load(f)\n",
    "  print(len(agencies))"
   ]
  },
  {
   "cell_type": "markdown",
   "metadata": {},
   "source": [
    "# Astronauts\n",
    "Total: 721"
   ]
  },
  {
   "cell_type": "code",
   "execution_count": 16,
   "metadata": {},
   "outputs": [
    {
     "name": "stdout",
     "output_type": "stream",
     "text": [
      "104\n"
     ]
    }
   ],
   "source": [
    "with open('./data/launch-library/astronauts.json', encoding='utf-8') as f:\n",
    "  astronauts = json.load(f)\n",
    "  print(len(astronauts))"
   ]
  },
  {
   "cell_type": "markdown",
   "metadata": {},
   "source": [
    "# Expeditions\n",
    "Total: 147"
   ]
  },
  {
   "cell_type": "code",
   "execution_count": 26,
   "metadata": {},
   "outputs": [
    {
     "name": "stdout",
     "output_type": "stream",
     "text": [
      "147\n"
     ]
    }
   ],
   "source": [
    "with open('./data/launch-library/expeditions.json', encoding='utf-8') as f:\n",
    "  expeditions = json.load(f)\n",
    "  print(len(expeditions))"
   ]
  },
  {
   "cell_type": "markdown",
   "metadata": {},
   "source": [
    "# Launches\n",
    "Total: 6767"
   ]
  },
  {
   "cell_type": "code",
   "execution_count": null,
   "metadata": {},
   "outputs": [],
   "source": [
    "max_offset = 68\n",
    "sleep_time = 300\n",
    "\n",
    "for i in range(10, max_offset):\n",
    "\twith open('./data/launch-library/launches.json', 'r+', encoding='utf-8') as f:\n",
    "\t\tlaunches = json.load(f)\n",
    "\t\tf.seek(0)\n",
    "\t\tdata = requests.get('https://ll.thespacedevs.com/2.2.0/launch/?mode=detailed&limit=100&offset={}'.format(i * 100))\n",
    "\t\tfor result in data.json()['results']:\n",
    "\t\t\tlaunches.append(result)\n",
    "\t\tjson.dump(launches, f, indent=2)\n",
    "\t\tf.truncate()\n",
    "\t\thours_left = (((max_offset - i) * sleep_time / 60) / 60)\n",
    "\t\tminutes_left = ((max_offset - i) * sleep_time / 60) % 60\n",
    "\t\tprint('%i / 67 | %ih %2im remaining' % (i, hours_left, minutes_left))\n",
    "\t\ttime.sleep(sleep_time)\n",
    "print('done :)')\n"
   ]
  },
  {
   "cell_type": "code",
   "execution_count": 4,
   "metadata": {},
   "outputs": [
    {
     "name": "stdout",
     "output_type": "stream",
     "text": [
      "6767\n"
     ]
    }
   ],
   "source": [
    "\n",
    "with open('./data/launch-library/launches.json', 'r+', encoding='utf-8') as f:\n",
    "  launches = json.load(f)\n",
    "  print(len(launches))"
   ]
  },
  {
   "cell_type": "markdown",
   "metadata": {},
   "source": [
    "# Locations\n",
    "Total: 49"
   ]
  },
  {
   "cell_type": "code",
   "execution_count": 28,
   "metadata": {},
   "outputs": [
    {
     "name": "stdout",
     "output_type": "stream",
     "text": [
      "49\n"
     ]
    }
   ],
   "source": [
    "with open('./data/launch-library/locations.json', encoding='utf-8') as f:\n",
    "  locations = json.load(f)\n",
    "  print(len(locations))"
   ]
  },
  {
   "cell_type": "markdown",
   "metadata": {},
   "source": [
    "# I want it all!\n",
    "I want it now"
   ]
  },
  {
   "cell_type": "code",
   "execution_count": null,
   "metadata": {},
   "outputs": [],
   "source": [
    "cheeky_export = {}"
   ]
  },
  {
   "cell_type": "code",
   "execution_count": 12,
   "metadata": {},
   "outputs": [],
   "source": [
    "def get_all_remaining_endpoints():\n",
    "  endpoints_info = {}\n",
    "  sleep_seconds = 250\n",
    "\n",
    "  with open('./data/launch-library/remaining_endpoints.json', 'r') as endpoints_json:\n",
    "    remaining_endpoints = json.load(endpoints_json)\n",
    "    \n",
    "  for endpoint_name in remaining_endpoints:\n",
    "    print('getting {}'.format(endpoint_name))\n",
    "    endpoint_url = remaining_endpoints[endpoint_name]\n",
    "    response = requests.get(endpoint_url, params={'mode':'detailed', 'limit':1}).json()\n",
    "    if 'next' in response and 'count' in response:\n",
    "      endpoints_info.update({endpoint_name: {'next': response['next'], 'count': response['count']}})\n",
    "    else:\n",
    "      print('[ERROR] getting {}\\nreponse:'.format(endpoint_name))\n",
    "      print(response)\n",
    "    # with open('./data/launch-library/{}.json'.format(endpoint_name), 'w') as out_json:\n",
    "    #   json.dump(response['results'], out_json, indent=2)\n",
    "  \n",
    "  cheeky_export = endpoints_info\n",
    "  # cooldown_seconds = len(endpoints_info) * sleep_seconds\n",
    "  # cooldown_minutes = (int)(cooldown_seconds / 60)\n",
    "  # total_requests = sum([(int)(endpoints_info[ep]['count'] / 100) for ep in endpoints_info])\n",
    "  total_requests = 30\n",
    "  ###\n",
    "  total_seconds = total_requests * sleep_seconds\n",
    "  total_hours = (int)(total_seconds / 3600)\n",
    "  total_minutes = (int)(total_seconds / 60) % 60\n",
    "  print('Total requests needed: {}'.format(total_requests))\n",
    "  print('This should take about {}h {}m'.format(total_hours, total_minutes))\n",
    "\n",
    "  # print('sleeping for {}m'.format(cooldown_minutes))\n",
    "  # time.sleep(cooldown_seconds)\n",
    "\n",
    "\n",
    "  return\n",
    "\n",
    "  for endpoint_name in endpoints_info:\n",
    "    current_offset = 0\n",
    "    while endpoints_info[endpoint_name]['next'] != None:\n",
    "      current_offset += 1\n",
    "      with open('./data/launch-library/{}.json'.format(endpoint_name), 'r+') as in_json:\n",
    "        entries = json.load(in_json)\n",
    "        in_json.seek(0)\n",
    "        # next_response = requests.get(endpoints_info[endpoint_name]['next']).json()\n",
    "        for result in next_response['results']:\n",
    "          entries.append(result)\n",
    "        json.dump(entries, in_json, indent=2)\n",
    "        in_json.truncate()\n",
    "        endpoints_info.update({endpoint_name: {'next': next_response['next'], 'count': next_response['count']}})\n",
    "\n",
    "        endpoint_count_div_100 = (int)(endpoints_info[endpoint_name]['count'] / 100)\n",
    "        seconds_remaining = endpoint_count_div_100 * sleep_seconds\n",
    "        hours_remaining = (int)(seconds_remaining / 3600)\n",
    "        minutes_remaining = (int)(seconds_remaining / 60) % 60\n",
    "        print('%i / %i | %s | %ih %2im remaining' % (current_offset, endpoint_count_div_100, endpoint_name, hours_remaining, minutes_remaining))\n",
    "        time.sleep(sleep_seconds)\n",
    "    print('{} done :)'.format(endpoint_name))\n"
   ]
  },
  {
   "cell_type": "code",
   "execution_count": 18,
   "metadata": {},
   "outputs": [
    {
     "data": {
      "text/plain": [
       "{}"
      ]
     },
     "execution_count": 18,
     "metadata": {},
     "output_type": "execute_result"
    }
   ],
   "source": [
    "cheeky_export"
   ]
  },
  {
   "cell_type": "code",
   "execution_count": 13,
   "metadata": {},
   "outputs": [
    {
     "name": "stdout",
     "output_type": "stream",
     "text": [
      "getting astronauts\n",
      "[ERROR] getting astronauts\n",
      "reponse:\n",
      "{'detail': 'Request was throttled. Expected available in 3116 seconds.'}\n",
      "getting docking_events\n",
      "[ERROR] getting docking_events\n",
      "reponse:\n",
      "{'detail': 'Request was throttled. Expected available in 3115 seconds.'}\n",
      "getting launchers\n",
      "[ERROR] getting launchers\n",
      "reponse:\n",
      "{'detail': 'Request was throttled. Expected available in 3115 seconds.'}\n",
      "getting pads\n",
      "[ERROR] getting pads\n",
      "reponse:\n",
      "{'detail': 'Request was throttled. Expected available in 3115 seconds.'}\n",
      "getting spacestations\n",
      "[ERROR] getting spacestations\n",
      "reponse:\n",
      "{'detail': 'Request was throttled. Expected available in 3114 seconds.'}\n",
      "getting spacecraft_flights\n",
      "[ERROR] getting spacecraft_flights\n",
      "reponse:\n",
      "{'detail': 'Request was throttled. Expected available in 3114 seconds.'}\n",
      "getting spacecrafts\n",
      "[ERROR] getting spacecrafts\n",
      "reponse:\n",
      "{'detail': 'Request was throttled. Expected available in 3114 seconds.'}\n",
      "getting programs\n",
      "[ERROR] getting programs\n",
      "reponse:\n",
      "{'detail': 'Request was throttled. Expected available in 3114 seconds.'}\n",
      "{}\n",
      "Total requests needed: 30\n",
      "This should take about 2h 5m\n"
     ]
    }
   ],
   "source": [
    "get_all_remaining_endpoints()"
   ]
  }
 ],
 "metadata": {
  "kernelspec": {
   "display_name": "Python 3.10.8 ('dviz')",
   "language": "python",
   "name": "python3"
  },
  "language_info": {
   "codemirror_mode": {
    "name": "ipython",
    "version": 3
   },
   "file_extension": ".py",
   "mimetype": "text/x-python",
   "name": "python",
   "nbconvert_exporter": "python",
   "pygments_lexer": "ipython3",
   "version": "3.10.8"
  },
  "orig_nbformat": 4,
  "vscode": {
   "interpreter": {
    "hash": "3b0e3f12e10e030fed2335f1b1859ee4a72959b35d4e2e1ef1e6659dbde6c006"
   }
  }
 },
 "nbformat": 4,
 "nbformat_minor": 2
}
