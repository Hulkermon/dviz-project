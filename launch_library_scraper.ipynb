{
 "cells": [
  {
   "cell_type": "code",
   "execution_count": 1,
   "metadata": {},
   "outputs": [],
   "source": [
    "import json\n",
    "import requests\n",
    "import time"
   ]
  },
  {
   "cell_type": "markdown",
   "metadata": {},
   "source": [
    "# Agencies\n",
    "Total: 290"
   ]
  },
  {
   "cell_type": "code",
   "execution_count": 24,
   "metadata": {},
   "outputs": [
    {
     "name": "stdout",
     "output_type": "stream",
     "text": [
      "290\n"
     ]
    }
   ],
   "source": [
    "with open('./data/launch-library/agencies.json', encoding='utf-8') as f:\n",
    "  agencies = json.load(f)\n",
    "  print(len(agencies))"
   ]
  },
  {
   "cell_type": "markdown",
   "metadata": {},
   "source": [
    "# Astronauts\n",
    "Total: 721"
   ]
  },
  {
   "cell_type": "code",
   "execution_count": 16,
   "metadata": {},
   "outputs": [
    {
     "name": "stdout",
     "output_type": "stream",
     "text": [
      "104\n"
     ]
    }
   ],
   "source": [
    "with open('./data/launch-library/astronauts.json', encoding='utf-8') as f:\n",
    "  astronauts = json.load(f)\n",
    "  print(len(astronauts))"
   ]
  },
  {
   "cell_type": "markdown",
   "metadata": {},
   "source": [
    "# Expeditions\n",
    "Total: 147"
   ]
  },
  {
   "cell_type": "code",
   "execution_count": 26,
   "metadata": {},
   "outputs": [
    {
     "name": "stdout",
     "output_type": "stream",
     "text": [
      "147\n"
     ]
    }
   ],
   "source": [
    "with open('./data/launch-library/expeditions.json', encoding='utf-8') as f:\n",
    "  expeditions = json.load(f)\n",
    "  print(len(expeditions))"
   ]
  },
  {
   "cell_type": "markdown",
   "metadata": {},
   "source": [
    "# Launches\n",
    "Total: 6767"
   ]
  },
  {
   "cell_type": "code",
   "execution_count": null,
   "metadata": {},
   "outputs": [],
   "source": [
    "max_offset = 68\n",
    "sleep_time = 300\n",
    "\n",
    "for i in range(10, max_offset):\n",
    "\twith open('./data/launch-library/launches.json', 'r+', encoding='utf-8') as f:\n",
    "\t\tlaunches = json.load(f)\n",
    "\t\tf.seek(0)\n",
    "\t\tdata = requests.get('https://ll.thespacedevs.com/2.2.0/launch/?mode=detailed&limit=100&offset={}'.format(i * 100))\n",
    "\t\tfor result in data.json()['results']:\n",
    "\t\t\tlaunches.append(result)\n",
    "\t\tjson.dump(launches, f, indent=2)\n",
    "\t\tf.truncate()\n",
    "\t\thours_left = (((max_offset - i) * sleep_time / 60) / 60)\n",
    "\t\tminutes_left = ((max_offset - i) * sleep_time / 60) % 60\n",
    "\t\tprint('%i / 67 | %ih %2im remaining' % (i, hours_left, minutes_left))\n",
    "\t\ttime.sleep(sleep_time)\n",
    "print('done :)')\n"
   ]
  },
  {
   "cell_type": "code",
   "execution_count": 4,
   "metadata": {},
   "outputs": [
    {
     "name": "stdout",
     "output_type": "stream",
     "text": [
      "6767\n"
     ]
    }
   ],
   "source": [
    "\n",
    "with open('./data/launch-library/launches.json', 'r+', encoding='utf-8') as f:\n",
    "  launches = json.load(f)\n",
    "  print(len(launches))"
   ]
  },
  {
   "cell_type": "markdown",
   "metadata": {},
   "source": [
    "# Locations\n",
    "Total: 49"
   ]
  },
  {
   "cell_type": "code",
   "execution_count": 28,
   "metadata": {},
   "outputs": [
    {
     "name": "stdout",
     "output_type": "stream",
     "text": [
      "49\n"
     ]
    }
   ],
   "source": [
    "with open('./data/launch-library/locations.json', encoding='utf-8') as f:\n",
    "  locations = json.load(f)\n",
    "  print(len(locations))"
   ]
  },
  {
   "cell_type": "markdown",
   "metadata": {},
   "source": [
    "# I want it all!\n",
    "I want it now"
   ]
  },
  {
   "cell_type": "code",
   "execution_count": 2,
   "metadata": {},
   "outputs": [],
   "source": [
    "cheeky_export = {}"
   ]
  },
  {
   "cell_type": "code",
   "execution_count": 25,
   "metadata": {},
   "outputs": [],
   "source": [
    "def get_all_remaining_endpoints():\n",
    "  # endpoints_info = {}\n",
    "  endpoints_info = cheeky_export\n",
    "  ###\n",
    "  sleep_seconds = 250\n",
    "\n",
    "  with open('./data/launch-library/remaining_endpoints.json', 'r') as endpoints_json:\n",
    "    remaining_endpoints = json.load(endpoints_json)\n",
    "    \n",
    "  for endpoint_name in remaining_endpoints:\n",
    "    print('getting {}'.format(endpoint_name))\n",
    "    endpoint_url = remaining_endpoints[endpoint_name]\n",
    "    # response = requests.get(endpoint_url, params={'mode':'detailed', 'limit':1}).json()\n",
    "    response = {}\n",
    "    ###\n",
    "    # try:\n",
    "    #   endpoints_info.update({endpoint_name: {'next': response['next'], 'count': response['count']}})\n",
    "    # except(KeyError):\n",
    "    #   print('[ERROR] getting {}\\nreponse:'.format(endpoint_name))\n",
    "    #   print(response)\n",
    "    # with open('./data/launch-library/{}.json'.format(endpoint_name), 'w') as out_json:\n",
    "    #   json.dump(response['results'], out_json, indent=2)\n",
    "  \n",
    "  cooldown_seconds = len(endpoints_info) * sleep_seconds\n",
    "  cooldown_minutes = (int)(cooldown_seconds / 60)\n",
    "  print(endpoints_info)\n",
    "  total_requests = sum([(int)(endpoints_info[ep]['count'] / 100) for ep in endpoints_info])\n",
    "  total_seconds = total_requests * sleep_seconds + cooldown_seconds\n",
    "  total_hours = (int)(total_seconds / 3600)\n",
    "  total_minutes = (int)(total_seconds / 60) % 60\n",
    "  print('Total requests needed: {}'.format(total_requests))\n",
    "  print('This should take about {}h {}m'.format(total_hours, total_minutes))\n",
    "\n",
    "  print('sleeping for {}m'.format(cooldown_minutes))\n",
    "  # time.sleep(cooldown_seconds)\n",
    "\n",
    "\n",
    "\n",
    "  for endpoint_name in endpoints_info:\n",
    "    current_offset = 0\n",
    "    while endpoints_info[endpoint_name]['next'] != None:\n",
    "      current_offset += 1\n",
    "      with open('./data/launch-library/{}.json'.format(endpoint_name), 'r+') as in_json:\n",
    "        entries = json.load(in_json)\n",
    "        in_json.seek(0)\n",
    "        # next_response = requests.get(endpoints_info[endpoint_name]['next']).json()\n",
    "        print('getting {}', endpoints_info[endpoint_name]['next'])\n",
    "        next_response = {'next': None, 'count': endpoints_info[endpoint_name]['count']}\n",
    "        ###\n",
    "        try:\n",
    "          for result in next_response['results']:\n",
    "            entries.append(result)\n",
    "        except(KeyError):\n",
    "          print('No results found for {}'.format(endpoint_name))\n",
    "        json.dump(entries, in_json, indent=2)\n",
    "        in_json.truncate()\n",
    "        try:\n",
    "          endpoints_info.update({endpoint_name: {'next': next_response['next'], 'count': next_response['count']}})\n",
    "        except(KeyError):\n",
    "          print('[ERROR] getting {}'.format(endpoint_name))\n",
    "          endpoints_info.update({endpoint_name: {'next': None, 'count': endpoints_info[endpoint_name]['count']}})\n",
    "          pass\n",
    "\n",
    "        endpoint_count_div_100 = (int)(endpoints_info[endpoint_name]['count'] / 100)\n",
    "        seconds_remaining = endpoint_count_div_100 * sleep_seconds\n",
    "        hours_remaining = (int)(seconds_remaining / 3600)\n",
    "        minutes_remaining = (int)(seconds_remaining / 60) % 60\n",
    "        print('%i / %i | %s | %ih %2im remaining' % (current_offset, endpoint_count_div_100, endpoint_name, hours_remaining, minutes_remaining))\n",
    "        # time.sleep(sleep_seconds)\n",
    "    print('{} done :)'.format(endpoint_name))\n",
    "  print('holy shit we made it...')"
   ]
  },
  {
   "cell_type": "code",
   "execution_count": 31,
   "metadata": {},
   "outputs": [
    {
     "data": {
      "text/plain": [
       "{'astronauts': {'next': 'https://ll.thespacedevs.com/2.2.0/astronaut/?limit=1&mode=detailed&offset=1',\n",
       "  'count': 721},\n",
       " 'docking_events': {'next': 'https://ll.thespacedevs.com/2.2.0/docking_event/?limit=1&mode=detailed&offset=1',\n",
       "  'count': 473},\n",
       " 'launchers': {'next': 'https://ll.thespacedevs.com/2.2.0/launcher/?limit=1&mode=detailed&offset=1',\n",
       "  'count': 117},\n",
       " 'pads': {'next': 'https://ll.thespacedevs.com/2.2.0/pad/?limit=1&mode=detailed&offset=1',\n",
       "  'count': 200},\n",
       " 'spacestations': {'next': 'https://ll.thespacedevs.com/2.2.0/spacestation/?limit=1&mode=detailed&offset=1',\n",
       "  'count': 15},\n",
       " 'spacecraft_flights': {'next': 'https://ll.thespacedevs.com/2.2.0/spacecraft/flight/?limit=1&mode=detailed&offset=1',\n",
       "  'count': 787},\n",
       " 'spacecrafts': {'next': 'https://ll.thespacedevs.com/2.2.0/spacecraft/?limit=1&mode=detailed&offset=1',\n",
       "  'count': 544},\n",
       " 'programs': {'next': 'https://ll.thespacedevs.com/2.2.0/program/?limit=1&mode=detailed&offset=1',\n",
       "  'count': 21}}"
      ]
     },
     "execution_count": 31,
     "metadata": {},
     "output_type": "execute_result"
    }
   ],
   "source": [
    "cheeky_export"
   ]
  },
  {
   "cell_type": "code",
   "execution_count": 32,
   "metadata": {},
   "outputs": [
    {
     "name": "stdout",
     "output_type": "stream",
     "text": [
      "getting astronauts\n",
      "getting docking_events\n",
      "getting launchers\n",
      "getting pads\n",
      "getting spacestations\n",
      "getting spacecraft_flights\n",
      "getting spacecrafts\n",
      "getting programs\n",
      "{'astronauts': {'next': 'https://ll.thespacedevs.com/2.2.0/astronaut/?limit=1&mode=detailed&offset=1', 'count': 721}, 'docking_events': {'next': 'https://ll.thespacedevs.com/2.2.0/docking_event/?limit=1&mode=detailed&offset=1', 'count': 473}, 'launchers': {'next': 'https://ll.thespacedevs.com/2.2.0/launcher/?limit=1&mode=detailed&offset=1', 'count': 117}, 'pads': {'next': 'https://ll.thespacedevs.com/2.2.0/pad/?limit=1&mode=detailed&offset=1', 'count': 200}, 'spacestations': {'next': 'https://ll.thespacedevs.com/2.2.0/spacestation/?limit=1&mode=detailed&offset=1', 'count': 15}, 'spacecraft_flights': {'next': 'https://ll.thespacedevs.com/2.2.0/spacecraft/flight/?limit=1&mode=detailed&offset=1', 'count': 787}, 'spacecrafts': {'next': 'https://ll.thespacedevs.com/2.2.0/spacecraft/?limit=1&mode=detailed&offset=1', 'count': 544}, 'programs': {'next': 'https://ll.thespacedevs.com/2.2.0/program/?limit=1&mode=detailed&offset=1', 'count': 21}}\n",
      "Total requests needed: 26\n",
      "This should take about 2h 21m\n",
      "sleeping for 33m\n",
      "getting {} https://ll.thespacedevs.com/2.2.0/astronaut/?limit=1&mode=detailed&offset=1\n",
      "No results found for astronauts\n",
      "1 / 7 | astronauts | 0h 29m remaining\n",
      "astronauts done :)\n",
      "getting {} https://ll.thespacedevs.com/2.2.0/docking_event/?limit=1&mode=detailed&offset=1\n",
      "No results found for docking_events\n",
      "1 / 4 | docking_events | 0h 16m remaining\n",
      "docking_events done :)\n",
      "getting {} https://ll.thespacedevs.com/2.2.0/launcher/?limit=1&mode=detailed&offset=1\n",
      "No results found for launchers\n",
      "1 / 1 | launchers | 0h  4m remaining\n",
      "launchers done :)\n",
      "getting {} https://ll.thespacedevs.com/2.2.0/pad/?limit=1&mode=detailed&offset=1\n",
      "No results found for pads\n",
      "1 / 2 | pads | 0h  8m remaining\n",
      "pads done :)\n",
      "getting {} https://ll.thespacedevs.com/2.2.0/spacestation/?limit=1&mode=detailed&offset=1\n",
      "No results found for spacestations\n",
      "1 / 0 | spacestations | 0h  0m remaining\n",
      "spacestations done :)\n",
      "getting {} https://ll.thespacedevs.com/2.2.0/spacecraft/flight/?limit=1&mode=detailed&offset=1\n",
      "No results found for spacecraft_flights\n",
      "1 / 7 | spacecraft_flights | 0h 29m remaining\n",
      "spacecraft_flights done :)\n",
      "getting {} https://ll.thespacedevs.com/2.2.0/spacecraft/?limit=1&mode=detailed&offset=1\n",
      "No results found for spacecrafts\n",
      "1 / 5 | spacecrafts | 0h 20m remaining\n",
      "spacecrafts done :)\n",
      "getting {} https://ll.thespacedevs.com/2.2.0/program/?limit=1&mode=detailed&offset=1\n",
      "No results found for programs\n",
      "1 / 0 | programs | 0h  0m remaining\n",
      "programs done :)\n"
     ]
    }
   ],
   "source": [
    "get_all_remaining_endpoints()"
   ]
  }
 ],
 "metadata": {
  "kernelspec": {
   "display_name": "dviz",
   "language": "python",
   "name": "dviz"
  },
  "language_info": {
   "codemirror_mode": {
    "name": "ipython",
    "version": 3
   },
   "file_extension": ".py",
   "mimetype": "text/x-python",
   "name": "python",
   "nbconvert_exporter": "python",
   "pygments_lexer": "ipython3",
   "version": "3.10.8"
  },
  "orig_nbformat": 4,
  "vscode": {
   "interpreter": {
    "hash": "142fc15c3fcfc905220740b4d05805b088e067d8dd710b04d220c384b05414d8"
   }
  }
 },
 "nbformat": 4,
 "nbformat_minor": 2
}
